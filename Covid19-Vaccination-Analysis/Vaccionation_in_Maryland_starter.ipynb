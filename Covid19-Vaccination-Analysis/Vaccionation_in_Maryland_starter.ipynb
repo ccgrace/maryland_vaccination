{
 "cells": [
  {
   "cell_type": "markdown",
   "metadata": {},
   "source": [
    "# Covid19 Vaccionation Statistics in Maryland"
   ]
  },
  {
   "cell_type": "code",
   "execution_count": 1,
   "metadata": {},
   "outputs": [],
   "source": [
    "# importing dependencies and resources\n",
    "import os\n",
    "import pandas as pd\n",
    "import matplotlib.pyplot as plt\n",
    "import numpy as np\n",
    "import json, requests\n",
    "import gmaps\n",
    "from scipy import spatial\n",
    "# Import API key\n",
    "from config import g_key"
   ]
  },
  {
   "cell_type": "code",
   "execution_count": 2,
   "metadata": {},
   "outputs": [],
   "source": [
    "# loading csv files\n",
    "vaccination_locations_path = \"../Datasets/MD_Vaccination_Locations.csv\"\n"
   ]
  },
  {
   "cell_type": "markdown",
   "metadata": {},
   "source": [
    "<center><i><h1 style=\"background-color:black;color:orange\">Total covid-19 vaccine doses administered In The US</h1></i></center>\n",
    "<div style=\"background-color:LightSlateGray\">\n",
    "<ul>\n",
    "    <li>\n",
    "        <p style=\"color:white;font-size:150%;background-color:LightSlateGray\"> Analysis of the total number of vaccine doses administrated.</p>\n",
    "    </li>\n",
    "    <li>\n",
    "        <p style=\"color:white;font-size:150%;background-color:LightSlateGray\"> We will compare Maryland against other states in the United States.</p>\n",
    "    </li>\n",
    "    </ul>\n",
    "</div>"
   ]
  },
  {
   "cell_type": "markdown",
   "metadata": {},
   "source": [
    "<center><i><h1 style=\"background-color:black;color:orange\">All Maryland Vaccination Sites</h1></i></center>\n",
    "<div style=\"background-color:LightSlateGray\">\n",
    "<ul>\n",
    "    <li>\n",
    "        <p style=\"color:white;font-size:150%;background-color:LightSlateGray\"> This Section shows a map with all the vaccination sites in the State of Maryland.</p>\n",
    "    </li>\n",
    "    <li>\n",
    "        <p style=\"color:white;font-size:150%;background-color:LightSlateGray\"> You can Find the nearest vaccionation place to a specific address, providing it in the inputbox.</p>\n",
    "    </li>\n",
    "    </ul>\n",
    "</div>"
   ]
  },
  {
   "cell_type": "code",
   "execution_count": 3,
   "metadata": {
    "scrolled": true
   },
   "outputs": [
    {
     "name": "stderr",
     "output_type": "stream",
     "text": [
      "Enabling notebook extension jupyter-js-widgets/extension...\n",
      "      - Validating: ok\n",
      "Enabling notebook extension jupyter-gmaps/extension...\n",
      "      - Validating: ok\n"
     ]
    }
   ],
   "source": [
    "# Creating the initial DataFrame\n",
    "locations_df = pd.read_csv(vaccination_locations_path)\n",
    "\n",
    "# enable gmaps features on jupyternotebooks\n",
    "!jupyter nbextension enable --py --sys-prefix widgetsnbextension\n",
    "!jupyter nbextension enable --py --sys-prefix gmaps"
   ]
  },
  {
   "cell_type": "markdown",
   "metadata": {},
   "source": [
    "### Configure gmaps key"
   ]
  },
  {
   "cell_type": "code",
   "execution_count": 4,
   "metadata": {},
   "outputs": [],
   "source": [
    "# Google developer API key\n",
    "# Access maps with unique API key\n",
    "gmaps.configure(api_key=g_key)"
   ]
  },
  {
   "cell_type": "code",
   "execution_count": 5,
   "metadata": {},
   "outputs": [
    {
     "data": {
      "text/html": [
       "<div>\n",
       "<style scoped>\n",
       "    .dataframe tbody tr th:only-of-type {\n",
       "        vertical-align: middle;\n",
       "    }\n",
       "\n",
       "    .dataframe tbody tr th {\n",
       "        vertical-align: top;\n",
       "    }\n",
       "\n",
       "    .dataframe thead th {\n",
       "        text-align: right;\n",
       "    }\n",
       "</style>\n",
       "<table border=\"1\" class=\"dataframe\">\n",
       "  <thead>\n",
       "    <tr style=\"text-align: right;\">\n",
       "      <th></th>\n",
       "      <th>X</th>\n",
       "      <th>Y</th>\n",
       "      <th>OBJECTID</th>\n",
       "      <th>facilityid</th>\n",
       "      <th>name</th>\n",
       "      <th>fulladdr</th>\n",
       "      <th>municipality</th>\n",
       "      <th>CreationDate</th>\n",
       "      <th>Creator</th>\n",
       "      <th>EditDate</th>\n",
       "      <th>...</th>\n",
       "      <th>X_coord</th>\n",
       "      <th>Y_coord</th>\n",
       "      <th>test_pediatric</th>\n",
       "      <th>multi_language</th>\n",
       "      <th>test_pediatric_notes</th>\n",
       "      <th>created_user</th>\n",
       "      <th>created_date</th>\n",
       "      <th>last_edited_user</th>\n",
       "      <th>last_edited_date</th>\n",
       "      <th>County</th>\n",
       "    </tr>\n",
       "  </thead>\n",
       "  <tbody>\n",
       "    <tr>\n",
       "      <th>0</th>\n",
       "      <td>-76.534166</td>\n",
       "      <td>38.990512</td>\n",
       "      <td>84</td>\n",
       "      <td>Anna_Lumi_83</td>\n",
       "      <td>Luminis Health Anne Arundel Medical Center</td>\n",
       "      <td>2001 Medical Parkway, Annapolis, MD 21401</td>\n",
       "      <td>Annapolis</td>\n",
       "      <td>1970/01/01 00:00:00+00</td>\n",
       "      <td>NaN</td>\n",
       "      <td>1970/01/01 00:00:00+00</td>\n",
       "      <td>...</td>\n",
       "      <td>NaN</td>\n",
       "      <td>NaN</td>\n",
       "      <td>NaN</td>\n",
       "      <td>NaN</td>\n",
       "      <td>NaN</td>\n",
       "      <td>mdimapdatacatalog</td>\n",
       "      <td>2021/03/02 22:05:19.604+00</td>\n",
       "      <td>mdimapdatacatalog</td>\n",
       "      <td>2021/03/02 22:05:19.604+00</td>\n",
       "      <td>Anne Arundel</td>\n",
       "    </tr>\n",
       "    <tr>\n",
       "      <th>1</th>\n",
       "      <td>-76.865391</td>\n",
       "      <td>38.982597</td>\n",
       "      <td>87</td>\n",
       "      <td>Lanh_Lumi_86</td>\n",
       "      <td>Luminis Health Doctors Community Medical Center</td>\n",
       "      <td>8118 Good Luck Road, Lanham, MD 20706</td>\n",
       "      <td>Lanham</td>\n",
       "      <td>1970/01/01 00:00:00+00</td>\n",
       "      <td>NaN</td>\n",
       "      <td>1970/01/01 00:00:00+00</td>\n",
       "      <td>...</td>\n",
       "      <td>NaN</td>\n",
       "      <td>NaN</td>\n",
       "      <td>NaN</td>\n",
       "      <td>NaN</td>\n",
       "      <td>NaN</td>\n",
       "      <td>mdimapdatacatalog</td>\n",
       "      <td>2021/03/02 22:05:19.604+00</td>\n",
       "      <td>mdimapdatacatalog</td>\n",
       "      <td>2021/03/02 22:05:19.604+00</td>\n",
       "      <td>Prince George's</td>\n",
       "    </tr>\n",
       "    <tr>\n",
       "      <th>2</th>\n",
       "      <td>-76.648885</td>\n",
       "      <td>39.288231</td>\n",
       "      <td>92</td>\n",
       "      <td>Balt_Grac_91</td>\n",
       "      <td>Grace Medical Center (formerly Bon Secours Hos...</td>\n",
       "      <td>2000 West Baltimore Street, Baltimore, MD 21223</td>\n",
       "      <td>Baltimore</td>\n",
       "      <td>1970/01/01 00:00:00+00</td>\n",
       "      <td>NaN</td>\n",
       "      <td>1970/01/01 00:00:00+00</td>\n",
       "      <td>...</td>\n",
       "      <td>NaN</td>\n",
       "      <td>NaN</td>\n",
       "      <td>NaN</td>\n",
       "      <td>NaN</td>\n",
       "      <td>NaN</td>\n",
       "      <td>mdimapdatacatalog</td>\n",
       "      <td>2021/03/02 22:05:19.604+00</td>\n",
       "      <td>mdimapdatacatalog</td>\n",
       "      <td>2021/03/02 22:05:19.604+00</td>\n",
       "      <td>Baltimore City</td>\n",
       "    </tr>\n",
       "    <tr>\n",
       "      <th>3</th>\n",
       "      <td>-76.990634</td>\n",
       "      <td>39.557869</td>\n",
       "      <td>93</td>\n",
       "      <td>West_Carr_92</td>\n",
       "      <td>Carroll Hospital Center</td>\n",
       "      <td>200 Memorial Avenue, Westminster, MD 21157</td>\n",
       "      <td>Westminster</td>\n",
       "      <td>1970/01/01 00:00:00+00</td>\n",
       "      <td>NaN</td>\n",
       "      <td>1970/01/01 00:00:00+00</td>\n",
       "      <td>...</td>\n",
       "      <td>NaN</td>\n",
       "      <td>NaN</td>\n",
       "      <td>NaN</td>\n",
       "      <td>NaN</td>\n",
       "      <td>NaN</td>\n",
       "      <td>mdimapdatacatalog</td>\n",
       "      <td>2021/03/02 22:05:19.604+00</td>\n",
       "      <td>mdimapdatacatalog</td>\n",
       "      <td>2021/03/02 22:05:19.604+00</td>\n",
       "      <td>Carroll</td>\n",
       "    </tr>\n",
       "    <tr>\n",
       "      <th>4</th>\n",
       "      <td>-76.885867</td>\n",
       "      <td>39.214293</td>\n",
       "      <td>95</td>\n",
       "      <td>Colu_Howa_94</td>\n",
       "      <td>Howard County General Hospital</td>\n",
       "      <td>5755 Cedar Lane, Columbia, MD 21044</td>\n",
       "      <td>Columbia</td>\n",
       "      <td>1970/01/01 00:00:00+00</td>\n",
       "      <td>NaN</td>\n",
       "      <td>1970/01/01 00:00:00+00</td>\n",
       "      <td>...</td>\n",
       "      <td>NaN</td>\n",
       "      <td>NaN</td>\n",
       "      <td>NaN</td>\n",
       "      <td>NaN</td>\n",
       "      <td>NaN</td>\n",
       "      <td>mdimapdatacatalog</td>\n",
       "      <td>2021/03/02 22:05:19.604+00</td>\n",
       "      <td>mdimapdatacatalog</td>\n",
       "      <td>2021/03/02 22:05:19.604+00</td>\n",
       "      <td>Howard</td>\n",
       "    </tr>\n",
       "  </tbody>\n",
       "</table>\n",
       "<p>5 rows × 46 columns</p>\n",
       "</div>"
      ],
      "text/plain": [
       "           X          Y  OBJECTID    facilityid  \\\n",
       "0 -76.534166  38.990512        84  Anna_Lumi_83   \n",
       "1 -76.865391  38.982597        87  Lanh_Lumi_86   \n",
       "2 -76.648885  39.288231        92  Balt_Grac_91   \n",
       "3 -76.990634  39.557869        93  West_Carr_92   \n",
       "4 -76.885867  39.214293        95  Colu_Howa_94   \n",
       "\n",
       "                                                name  \\\n",
       "0         Luminis Health Anne Arundel Medical Center   \n",
       "1    Luminis Health Doctors Community Medical Center   \n",
       "2  Grace Medical Center (formerly Bon Secours Hos...   \n",
       "3                            Carroll Hospital Center   \n",
       "4                     Howard County General Hospital   \n",
       "\n",
       "                                          fulladdr municipality  \\\n",
       "0        2001 Medical Parkway, Annapolis, MD 21401    Annapolis   \n",
       "1            8118 Good Luck Road, Lanham, MD 20706       Lanham   \n",
       "2  2000 West Baltimore Street, Baltimore, MD 21223    Baltimore   \n",
       "3       200 Memorial Avenue, Westminster, MD 21157  Westminster   \n",
       "4              5755 Cedar Lane, Columbia, MD 21044     Columbia   \n",
       "\n",
       "             CreationDate  Creator                EditDate  ... X_coord  \\\n",
       "0  1970/01/01 00:00:00+00      NaN  1970/01/01 00:00:00+00  ...     NaN   \n",
       "1  1970/01/01 00:00:00+00      NaN  1970/01/01 00:00:00+00  ...     NaN   \n",
       "2  1970/01/01 00:00:00+00      NaN  1970/01/01 00:00:00+00  ...     NaN   \n",
       "3  1970/01/01 00:00:00+00      NaN  1970/01/01 00:00:00+00  ...     NaN   \n",
       "4  1970/01/01 00:00:00+00      NaN  1970/01/01 00:00:00+00  ...     NaN   \n",
       "\n",
       "  Y_coord test_pediatric  multi_language test_pediatric_notes  \\\n",
       "0     NaN            NaN             NaN                  NaN   \n",
       "1     NaN            NaN             NaN                  NaN   \n",
       "2     NaN            NaN             NaN                  NaN   \n",
       "3     NaN            NaN             NaN                  NaN   \n",
       "4     NaN            NaN             NaN                  NaN   \n",
       "\n",
       "        created_user                created_date   last_edited_user  \\\n",
       "0  mdimapdatacatalog  2021/03/02 22:05:19.604+00  mdimapdatacatalog   \n",
       "1  mdimapdatacatalog  2021/03/02 22:05:19.604+00  mdimapdatacatalog   \n",
       "2  mdimapdatacatalog  2021/03/02 22:05:19.604+00  mdimapdatacatalog   \n",
       "3  mdimapdatacatalog  2021/03/02 22:05:19.604+00  mdimapdatacatalog   \n",
       "4  mdimapdatacatalog  2021/03/02 22:05:19.604+00  mdimapdatacatalog   \n",
       "\n",
       "             last_edited_date           County  \n",
       "0  2021/03/02 22:05:19.604+00     Anne Arundel  \n",
       "1  2021/03/02 22:05:19.604+00  Prince George's  \n",
       "2  2021/03/02 22:05:19.604+00   Baltimore City  \n",
       "3  2021/03/02 22:05:19.604+00          Carroll  \n",
       "4  2021/03/02 22:05:19.604+00           Howard  \n",
       "\n",
       "[5 rows x 46 columns]"
      ]
     },
     "execution_count": 5,
     "metadata": {},
     "output_type": "execute_result"
    }
   ],
   "source": [
    "locations_df.head()"
   ]
  },
  {
   "cell_type": "code",
   "execution_count": 14,
   "metadata": {},
   "outputs": [],
   "source": [
    "# setting up map\n",
    "\n",
    "#store lat and lng\n",
    "locations = locations_df[[\"Y\",\"X\"]]\n",
    "\n",
    "#map attributes\n",
    "figure_layout = {\n",
    "    'width': '1000px',\n",
    "    'height': '600px',\n",
    "    'border': '1px solid black',\n",
    "    'padding': '1px',\n",
    "    'margin': 'auto'\n",
    "}\n",
    "vaccination_map = gmaps.figure(center = [0,0] ,zoom_level =6, layout=figure_layout)"
   ]
  },
  {
   "cell_type": "code",
   "execution_count": 7,
   "metadata": {},
   "outputs": [],
   "source": [
    "# Using the template add the Vaccionation sites marks to the map\n",
    "info_box_template = \"\"\"\n",
    "<dl>\n",
    "<dt>Name</dt><dd>{name}</dd>\n",
    "<dt>Address</dt><dd>{fulladdr}</dd>\n",
    "<dt>municipality</dt><dd>{municipality}</dd>\n",
    "</dl>\n",
    "\"\"\"\n",
    "# Store the DataFrame Row\n",
    "places_info = [info_box_template.format(**row) for index, row in locations_df.iterrows()]\n",
    "locations = locations_df[[\"Y\", \"X\"]]"
   ]
  },
  {
   "cell_type": "code",
   "execution_count": 8,
   "metadata": {
    "scrolled": false
   },
   "outputs": [
    {
     "data": {
      "application/vnd.jupyter.widget-view+json": {
       "model_id": "84e71ae9a549418898e9a5c222b07e22",
       "version_major": 2,
       "version_minor": 0
      },
      "text/plain": [
       "Figure(layout=FigureLayout(border='1px solid black', height='600px', margin='auto', padding='1px', width='1000…"
      ]
     },
     "metadata": {},
     "output_type": "display_data"
    }
   ],
   "source": [
    "# Add marker layer ontop of heat map\n",
    "\n",
    "# creating the markers\n",
    "markers = gmaps.marker_layer(locations, info_box_content= places_info)\n",
    "\n",
    "#adding the markers\n",
    "vaccination_map.add_layer(markers)\n",
    "\n",
    "# Display figure\n",
    "vaccination_map"
   ]
  },
  {
   "cell_type": "code",
   "execution_count": 9,
   "metadata": {
    "scrolled": true
   },
   "outputs": [
    {
     "name": "stdout",
     "output_type": "stream",
     "text": [
      "Enter your Address >> Rockville MD\n"
     ]
    }
   ],
   "source": [
    "users_address = input(\"Enter your Address >> \")"
   ]
  },
  {
   "cell_type": "code",
   "execution_count": 10,
   "metadata": {},
   "outputs": [],
   "source": [
    "# Target city\n",
    "target_address = users_address\n",
    "\n",
    "# Build the endpoint URL\n",
    "target_url = ('https://maps.googleapis.com/maps/api/geocode/json?'\n",
    "    'address={0}&key={1}').format(target_address, g_key)\n",
    "# sending request through Google API\n",
    "geo_data = requests.get(target_url).json()\n",
    "\n",
    "# Extract latitude and longitude\n",
    "lat = geo_data[\"results\"][0][\"geometry\"][\"location\"][\"lat\"]\n",
    "lng = geo_data[\"results\"][0][\"geometry\"][\"location\"][\"lng\"]"
   ]
  },
  {
   "cell_type": "code",
   "execution_count": 11,
   "metadata": {},
   "outputs": [],
   "source": [
    "# Obtaining a list with tuples inside containing the coordinates of all the vaccination sites in Maryland\n",
    "vaccination_points = [(x,y) for y,x in zip(locations['Y'], locations['X'])]\n",
    "tree = spatial.KDTree(vaccination_points)\n",
    "result = tree.query([(lng,lat)])\n",
    "# obtaining the index that containts the nearest place using the coordinates to compare the distance\n",
    "index = result[1][0] "
   ]
  },
  {
   "cell_type": "code",
   "execution_count": 12,
   "metadata": {},
   "outputs": [],
   "source": [
    "\n",
    "facility = locations_df.iloc[index][\"name\"]\n",
    "address = locations_df.iloc[index][\"fulladdr\"]"
   ]
  },
  {
   "cell_type": "code",
   "execution_count": 13,
   "metadata": {
    "scrolled": true
   },
   "outputs": [
    {
     "name": "stdout",
     "output_type": "stream",
     "text": [
      "The nearest vaccination center to you is: Walgreens Rockville \n",
      "located at: 430 Hungerford Dr Rockville MD 20850\n"
     ]
    }
   ],
   "source": [
    "print(f\"The nearest vaccination center to you is: {facility} \")\n",
    "print(f\"located at: {address}\")\n"
   ]
  },
  {
   "cell_type": "code",
   "execution_count": null,
   "metadata": {},
   "outputs": [],
   "source": []
  }
 ],
 "metadata": {
  "kernelspec": {
   "display_name": "Python 3",
   "language": "python",
   "name": "python3"
  },
  "language_info": {
   "codemirror_mode": {
    "name": "ipython",
    "version": 3
   },
   "file_extension": ".py",
   "mimetype": "text/x-python",
   "name": "python",
   "nbconvert_exporter": "python",
   "pygments_lexer": "ipython3",
   "version": "3.8.5"
  }
 },
 "nbformat": 4,
 "nbformat_minor": 4
}
